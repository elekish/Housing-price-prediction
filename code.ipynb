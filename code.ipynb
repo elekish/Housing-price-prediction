{
 "cells": [
  {
   "cell_type": "code",
   "execution_count": 1,
   "id": "cdb45a61",
   "metadata": {
    "_cell_guid": "b1076dfc-b9ad-4769-8c92-a6c4dae69d19",
    "_uuid": "8f2839f25d086af736a60e9eeb907d3b93b6e0e5",
    "execution": {
     "iopub.execute_input": "2023-10-20T13:41:55.083371Z",
     "iopub.status.busy": "2023-10-20T13:41:55.082733Z",
     "iopub.status.idle": "2023-10-20T13:41:55.446526Z",
     "shell.execute_reply": "2023-10-20T13:41:55.445481Z"
    },
    "papermill": {
     "duration": 0.373554,
     "end_time": "2023-10-20T13:41:55.449267",
     "exception": false,
     "start_time": "2023-10-20T13:41:55.075713",
     "status": "completed"
    },
    "tags": []
   },
   "outputs": [],
   "source": [
    "import pandas as pd"
   ]
  },
  {
   "cell_type": "code",
   "execution_count": 2,
   "id": "8034ec61",
   "metadata": {
    "execution": {
     "iopub.execute_input": "2023-10-20T13:41:55.465066Z",
     "iopub.status.busy": "2023-10-20T13:41:55.464493Z",
     "iopub.status.idle": "2023-10-20T13:41:55.470880Z",
     "shell.execute_reply": "2023-10-20T13:41:55.469766Z"
    },
    "papermill": {
     "duration": 0.015435,
     "end_time": "2023-10-20T13:41:55.473224",
     "exception": false,
     "start_time": "2023-10-20T13:41:55.457789",
     "status": "completed"
    },
    "tags": []
   },
   "outputs": [],
   "source": [
    "data_path='/kaggle/input/house-rent-prediction-dataset/House_Rent_Dataset.csv'"
   ]
  },
  {
   "cell_type": "code",
   "execution_count": 3,
   "id": "ceb56d8f",
   "metadata": {
    "execution": {
     "iopub.execute_input": "2023-10-20T13:41:55.484709Z",
     "iopub.status.busy": "2023-10-20T13:41:55.484351Z",
     "iopub.status.idle": "2023-10-20T13:41:55.533418Z",
     "shell.execute_reply": "2023-10-20T13:41:55.532214Z"
    },
    "papermill": {
     "duration": 0.057864,
     "end_time": "2023-10-20T13:41:55.536082",
     "exception": false,
     "start_time": "2023-10-20T13:41:55.478218",
     "status": "completed"
    },
    "tags": []
   },
   "outputs": [],
   "source": [
    "model_data=pd.read_csv(data_path)"
   ]
  },
  {
   "cell_type": "code",
   "execution_count": 4,
   "id": "5e24cfa5",
   "metadata": {
    "execution": {
     "iopub.execute_input": "2023-10-20T13:41:55.547572Z",
     "iopub.status.busy": "2023-10-20T13:41:55.547243Z",
     "iopub.status.idle": "2023-10-20T13:41:55.564668Z",
     "shell.execute_reply": "2023-10-20T13:41:55.563477Z"
    },
    "papermill": {
     "duration": 0.026131,
     "end_time": "2023-10-20T13:41:55.567150",
     "exception": false,
     "start_time": "2023-10-20T13:41:55.541019",
     "status": "completed"
    },
    "tags": []
   },
   "outputs": [
    {
     "data": {
      "text/plain": [
       "Posted On            0\n",
       "BHK                  0\n",
       "Rent                 0\n",
       "Size                 0\n",
       "Floor                0\n",
       "Area Type            0\n",
       "Area Locality        0\n",
       "City                 0\n",
       "Furnishing Status    0\n",
       "Tenant Preferred     0\n",
       "Bathroom             0\n",
       "Point of Contact     0\n",
       "dtype: int64"
      ]
     },
     "execution_count": 4,
     "metadata": {},
     "output_type": "execute_result"
    }
   ],
   "source": [
    "model_data.isnull().sum() #check if there are any missing values---------->here none"
   ]
  },
  {
   "cell_type": "code",
   "execution_count": 5,
   "id": "fdd9dd5d",
   "metadata": {
    "execution": {
     "iopub.execute_input": "2023-10-20T13:41:55.578622Z",
     "iopub.status.busy": "2023-10-20T13:41:55.578310Z",
     "iopub.status.idle": "2023-10-20T13:41:55.585756Z",
     "shell.execute_reply": "2023-10-20T13:41:55.584515Z"
    },
    "papermill": {
     "duration": 0.0159,
     "end_time": "2023-10-20T13:41:55.588018",
     "exception": false,
     "start_time": "2023-10-20T13:41:55.572118",
     "status": "completed"
    },
    "tags": []
   },
   "outputs": [
    {
     "data": {
      "text/plain": [
       "Index(['Posted On', 'BHK', 'Rent', 'Size', 'Floor', 'Area Type',\n",
       "       'Area Locality', 'City', 'Furnishing Status', 'Tenant Preferred',\n",
       "       'Bathroom', 'Point of Contact'],\n",
       "      dtype='object')"
      ]
     },
     "execution_count": 5,
     "metadata": {},
     "output_type": "execute_result"
    }
   ],
   "source": [
    "model_data.columns"
   ]
  },
  {
   "cell_type": "code",
   "execution_count": 6,
   "id": "26a5a5ff",
   "metadata": {
    "execution": {
     "iopub.execute_input": "2023-10-20T13:41:55.600132Z",
     "iopub.status.busy": "2023-10-20T13:41:55.599778Z",
     "iopub.status.idle": "2023-10-20T13:41:55.604353Z",
     "shell.execute_reply": "2023-10-20T13:41:55.603262Z"
    },
    "papermill": {
     "duration": 0.013426,
     "end_time": "2023-10-20T13:41:55.606939",
     "exception": false,
     "start_time": "2023-10-20T13:41:55.593513",
     "status": "completed"
    },
    "tags": []
   },
   "outputs": [],
   "source": [
    "features=['BHK','Size','Furnishing Status','Bathroom'] #ADD Area Type, Floor and Area Locality if similar"
   ]
  },
  {
   "cell_type": "code",
   "execution_count": 7,
   "id": "d76b9ca3",
   "metadata": {
    "execution": {
     "iopub.execute_input": "2023-10-20T13:41:55.618730Z",
     "iopub.status.busy": "2023-10-20T13:41:55.618326Z",
     "iopub.status.idle": "2023-10-20T13:41:56.802185Z",
     "shell.execute_reply": "2023-10-20T13:41:56.801006Z"
    },
    "papermill": {
     "duration": 1.19314,
     "end_time": "2023-10-20T13:41:56.805108",
     "exception": false,
     "start_time": "2023-10-20T13:41:55.611968",
     "status": "completed"
    },
    "tags": []
   },
   "outputs": [],
   "source": [
    "from sklearn.preprocessing import LabelEncoder #using label encoder to map to same values everytime\n"
   ]
  },
  {
   "cell_type": "code",
   "execution_count": 8,
   "id": "cfee2120",
   "metadata": {
    "execution": {
     "iopub.execute_input": "2023-10-20T13:41:56.817727Z",
     "iopub.status.busy": "2023-10-20T13:41:56.817250Z",
     "iopub.status.idle": "2023-10-20T13:41:56.829857Z",
     "shell.execute_reply": "2023-10-20T13:41:56.828621Z"
    },
    "papermill": {
     "duration": 0.021868,
     "end_time": "2023-10-20T13:41:56.832304",
     "exception": false,
     "start_time": "2023-10-20T13:41:56.810436",
     "status": "completed"
    },
    "tags": []
   },
   "outputs": [],
   "source": [
    "#model_data['Area Type']=model_data['Area Type'].replace(['Super Area','Carpet Area'],[1,0])\n",
    "model_data['Furnishing Status']=model_data['Furnishing Status'].replace(['Furnished','Semi-Furnished','Unfurnished'],[2,1,0])\n",
    "#model_data['Area Type']=pd.to_numeric(model_data['Area Type'],errors='coerce')\n",
    "model_data['Furnishing Status']=pd.to_numeric(model_data['Furnishing Status'],errors='coerce')"
   ]
  },
  {
   "cell_type": "code",
   "execution_count": 9,
   "id": "533f847a",
   "metadata": {
    "execution": {
     "iopub.execute_input": "2023-10-20T13:41:56.844520Z",
     "iopub.status.busy": "2023-10-20T13:41:56.843625Z",
     "iopub.status.idle": "2023-10-20T13:41:56.848511Z",
     "shell.execute_reply": "2023-10-20T13:41:56.847517Z"
    },
    "papermill": {
     "duration": 0.013431,
     "end_time": "2023-10-20T13:41:56.850831",
     "exception": false,
     "start_time": "2023-10-20T13:41:56.837400",
     "status": "completed"
    },
    "tags": []
   },
   "outputs": [],
   "source": [
    "#left_categorical_columns=['Floor','Area Locality']  #convert dtype=object to dtype=category for using category codes to convert object to number\n",
    "#model_data['Floor']=model_data['Floor'].astype('category')\n",
    "#all_categories1=model_data['Floor'].unique()\n",
    "#encoder1=LabelEncoder()\n",
    "#encoder1.fit(all_categories1)\n",
    "#model_data['Floor']=encoder1.transform(model_data['Floor'])\n",
    "    #X[categorical_columns]=X[categorical_columns].apply(lambda x:x.cat.codes)\n",
    "    \n",
    "#model_data['Area Locality']=model_data['Area Locality'].astype('category')\n",
    "#all_categories2=model_data['Area Locality'].unique()\n",
    "#encoder2=LabelEncoder()\n",
    "#encoder2.fit(all_categories2)\n",
    "#model_data['Area Locality']=encoder2.transform(model_data['Area Locality'])\n",
    "#X['Area Locality'].dtype"
   ]
  },
  {
   "cell_type": "code",
   "execution_count": 10,
   "id": "41a87922",
   "metadata": {
    "execution": {
     "iopub.execute_input": "2023-10-20T13:41:56.862597Z",
     "iopub.status.busy": "2023-10-20T13:41:56.862226Z",
     "iopub.status.idle": "2023-10-20T13:41:56.877558Z",
     "shell.execute_reply": "2023-10-20T13:41:56.876772Z"
    },
    "papermill": {
     "duration": 0.02358,
     "end_time": "2023-10-20T13:41:56.879432",
     "exception": false,
     "start_time": "2023-10-20T13:41:56.855852",
     "status": "completed"
    },
    "tags": []
   },
   "outputs": [
    {
     "data": {
      "text/plain": [
       "Posted On            0\n",
       "BHK                  0\n",
       "Rent                 0\n",
       "Size                 0\n",
       "Floor                0\n",
       "Area Type            0\n",
       "Area Locality        0\n",
       "City                 0\n",
       "Furnishing Status    0\n",
       "Tenant Preferred     0\n",
       "Bathroom             0\n",
       "Point of Contact     0\n",
       "dtype: int64"
      ]
     },
     "execution_count": 10,
     "metadata": {},
     "output_type": "execute_result"
    }
   ],
   "source": [
    "model_data=model_data.dropna(axis=0)\n",
    "model_data.isnull().sum()"
   ]
  },
  {
   "cell_type": "code",
   "execution_count": 11,
   "id": "7323e87f",
   "metadata": {
    "execution": {
     "iopub.execute_input": "2023-10-20T13:41:56.891604Z",
     "iopub.status.busy": "2023-10-20T13:41:56.890589Z",
     "iopub.status.idle": "2023-10-20T13:41:56.903477Z",
     "shell.execute_reply": "2023-10-20T13:41:56.902745Z"
    },
    "papermill": {
     "duration": 0.021399,
     "end_time": "2023-10-20T13:41:56.905851",
     "exception": false,
     "start_time": "2023-10-20T13:41:56.884452",
     "status": "completed"
    },
    "tags": []
   },
   "outputs": [],
   "source": [
    "X=model_data[features]\n",
    "y=model_data.Rent  "
   ]
  },
  {
   "cell_type": "code",
   "execution_count": 12,
   "id": "92adf734",
   "metadata": {
    "execution": {
     "iopub.execute_input": "2023-10-20T13:41:56.917676Z",
     "iopub.status.busy": "2023-10-20T13:41:56.917326Z",
     "iopub.status.idle": "2023-10-20T13:41:57.047133Z",
     "shell.execute_reply": "2023-10-20T13:41:57.046148Z"
    },
    "papermill": {
     "duration": 0.138367,
     "end_time": "2023-10-20T13:41:57.049296",
     "exception": false,
     "start_time": "2023-10-20T13:41:56.910929",
     "status": "completed"
    },
    "tags": []
   },
   "outputs": [
    {
     "data": {
      "text/html": [
       "<div>\n",
       "<style scoped>\n",
       "    .dataframe tbody tr th:only-of-type {\n",
       "        vertical-align: middle;\n",
       "    }\n",
       "\n",
       "    .dataframe tbody tr th {\n",
       "        vertical-align: top;\n",
       "    }\n",
       "\n",
       "    .dataframe thead th {\n",
       "        text-align: right;\n",
       "    }\n",
       "</style>\n",
       "<table border=\"1\" class=\"dataframe\">\n",
       "  <thead>\n",
       "    <tr style=\"text-align: right;\">\n",
       "      <th></th>\n",
       "      <th>BHK</th>\n",
       "      <th>Size</th>\n",
       "      <th>Furnishing Status</th>\n",
       "      <th>Bathroom</th>\n",
       "    </tr>\n",
       "  </thead>\n",
       "  <tbody>\n",
       "    <tr>\n",
       "      <th>1624</th>\n",
       "      <td>1</td>\n",
       "      <td>800</td>\n",
       "      <td>1</td>\n",
       "      <td>1</td>\n",
       "    </tr>\n",
       "    <tr>\n",
       "      <th>456</th>\n",
       "      <td>1</td>\n",
       "      <td>500</td>\n",
       "      <td>0</td>\n",
       "      <td>1</td>\n",
       "    </tr>\n",
       "    <tr>\n",
       "      <th>3609</th>\n",
       "      <td>2</td>\n",
       "      <td>600</td>\n",
       "      <td>0</td>\n",
       "      <td>2</td>\n",
       "    </tr>\n",
       "    <tr>\n",
       "      <th>2707</th>\n",
       "      <td>3</td>\n",
       "      <td>1600</td>\n",
       "      <td>2</td>\n",
       "      <td>2</td>\n",
       "    </tr>\n",
       "    <tr>\n",
       "      <th>1012</th>\n",
       "      <td>3</td>\n",
       "      <td>1260</td>\n",
       "      <td>0</td>\n",
       "      <td>3</td>\n",
       "    </tr>\n",
       "    <tr>\n",
       "      <th>...</th>\n",
       "      <td>...</td>\n",
       "      <td>...</td>\n",
       "      <td>...</td>\n",
       "      <td>...</td>\n",
       "    </tr>\n",
       "    <tr>\n",
       "      <th>2895</th>\n",
       "      <td>1</td>\n",
       "      <td>450</td>\n",
       "      <td>0</td>\n",
       "      <td>1</td>\n",
       "    </tr>\n",
       "    <tr>\n",
       "      <th>2763</th>\n",
       "      <td>1</td>\n",
       "      <td>545</td>\n",
       "      <td>2</td>\n",
       "      <td>1</td>\n",
       "    </tr>\n",
       "    <tr>\n",
       "      <th>905</th>\n",
       "      <td>3</td>\n",
       "      <td>806</td>\n",
       "      <td>1</td>\n",
       "      <td>2</td>\n",
       "    </tr>\n",
       "    <tr>\n",
       "      <th>3980</th>\n",
       "      <td>2</td>\n",
       "      <td>1600</td>\n",
       "      <td>0</td>\n",
       "      <td>3</td>\n",
       "    </tr>\n",
       "    <tr>\n",
       "      <th>235</th>\n",
       "      <td>1</td>\n",
       "      <td>450</td>\n",
       "      <td>0</td>\n",
       "      <td>1</td>\n",
       "    </tr>\n",
       "  </tbody>\n",
       "</table>\n",
       "<p>3559 rows × 4 columns</p>\n",
       "</div>"
      ],
      "text/plain": [
       "      BHK  Size  Furnishing Status  Bathroom\n",
       "1624    1   800                  1         1\n",
       "456     1   500                  0         1\n",
       "3609    2   600                  0         2\n",
       "2707    3  1600                  2         2\n",
       "1012    3  1260                  0         3\n",
       "...   ...   ...                ...       ...\n",
       "2895    1   450                  0         1\n",
       "2763    1   545                  2         1\n",
       "905     3   806                  1         2\n",
       "3980    2  1600                  0         3\n",
       "235     1   450                  0         1\n",
       "\n",
       "[3559 rows x 4 columns]"
      ]
     },
     "execution_count": 12,
     "metadata": {},
     "output_type": "execute_result"
    }
   ],
   "source": [
    "from sklearn.model_selection import train_test_split\n",
    "train_X, val_X, train_y, val_y=train_test_split(X,y,random_state=1)  #split train and test data\n",
    "train_X"
   ]
  },
  {
   "cell_type": "code",
   "execution_count": 13,
   "id": "0ade3911",
   "metadata": {
    "execution": {
     "iopub.execute_input": "2023-10-20T13:41:57.062174Z",
     "iopub.status.busy": "2023-10-20T13:41:57.061799Z",
     "iopub.status.idle": "2023-10-20T13:41:57.528804Z",
     "shell.execute_reply": "2023-10-20T13:41:57.527604Z"
    },
    "papermill": {
     "duration": 0.47631,
     "end_time": "2023-10-20T13:41:57.531391",
     "exception": false,
     "start_time": "2023-10-20T13:41:57.055081",
     "status": "completed"
    },
    "tags": []
   },
   "outputs": [],
   "source": [
    "from sklearn.ensemble import RandomForestRegressor\n",
    "from sklearn.metrics import mean_absolute_error"
   ]
  },
  {
   "cell_type": "code",
   "execution_count": 14,
   "id": "20199001",
   "metadata": {
    "execution": {
     "iopub.execute_input": "2023-10-20T13:41:57.543614Z",
     "iopub.status.busy": "2023-10-20T13:41:57.543264Z",
     "iopub.status.idle": "2023-10-20T13:41:57.548772Z",
     "shell.execute_reply": "2023-10-20T13:41:57.547674Z"
    },
    "papermill": {
     "duration": 0.014314,
     "end_time": "2023-10-20T13:41:57.551117",
     "exception": false,
     "start_time": "2023-10-20T13:41:57.536803",
     "status": "completed"
    },
    "tags": []
   },
   "outputs": [],
   "source": [
    "def get_mae(max_leaf_nodes,train_X,val_X,train_y,val_y):\n",
    "    m_data=RandomForestRegressor(max_leaf_nodes=max_leaf_nodes,random_state=1)\n",
    "    m_data.fit(train_X,train_y)\n",
    "    val_predictions=m_data.predict(val_X)\n",
    "    mae=mean_absolute_error(val_y,val_predictions)\n",
    "    return(mae)"
   ]
  },
  {
   "cell_type": "code",
   "execution_count": 15,
   "id": "b6f28c4c",
   "metadata": {
    "execution": {
     "iopub.execute_input": "2023-10-20T13:41:57.563915Z",
     "iopub.status.busy": "2023-10-20T13:41:57.563341Z",
     "iopub.status.idle": "2023-10-20T13:42:02.072764Z",
     "shell.execute_reply": "2023-10-20T13:42:02.071416Z"
    },
    "papermill": {
     "duration": 4.519562,
     "end_time": "2023-10-20T13:42:02.076197",
     "exception": false,
     "start_time": "2023-10-20T13:41:57.556635",
     "status": "completed"
    },
    "tags": []
   },
   "outputs": [],
   "source": [
    "import numpy as np\n",
    "best_leaf=0\n",
    "best_mae=500000\n",
    "nodes=np.arange(2,2000,200)\n",
    "for max_leaf in nodes:\n",
    "    possible_mae=get_mae(max_leaf,train_X,val_X,train_y,val_y)\n",
    "    if(possible_mae<best_mae):\n",
    "        best_leaf=max_leaf\n",
    "best_no_of_leaves=best_leaf\n"
   ]
  },
  {
   "cell_type": "code",
   "execution_count": 16,
   "id": "cf5bf1f8",
   "metadata": {
    "execution": {
     "iopub.execute_input": "2023-10-20T13:42:02.088333Z",
     "iopub.status.busy": "2023-10-20T13:42:02.087991Z",
     "iopub.status.idle": "2023-10-20T13:42:02.095765Z",
     "shell.execute_reply": "2023-10-20T13:42:02.094439Z"
    },
    "papermill": {
     "duration": 0.016378,
     "end_time": "2023-10-20T13:42:02.098154",
     "exception": false,
     "start_time": "2023-10-20T13:42:02.081776",
     "status": "completed"
    },
    "tags": []
   },
   "outputs": [
    {
     "name": "stdout",
     "output_type": "stream",
     "text": [
      "1802\n"
     ]
    }
   ],
   "source": [
    "print(best_no_of_leaves)\n"
   ]
  },
  {
   "cell_type": "code",
   "execution_count": 17,
   "id": "f59ad66c",
   "metadata": {
    "execution": {
     "iopub.execute_input": "2023-10-20T13:42:02.109871Z",
     "iopub.status.busy": "2023-10-20T13:42:02.109506Z",
     "iopub.status.idle": "2023-10-20T13:42:02.710328Z",
     "shell.execute_reply": "2023-10-20T13:42:02.709195Z"
    },
    "papermill": {
     "duration": 0.609297,
     "end_time": "2023-10-20T13:42:02.712502",
     "exception": false,
     "start_time": "2023-10-20T13:42:02.103205",
     "status": "completed"
    },
    "tags": []
   },
   "outputs": [
    {
     "data": {
      "text/plain": [
       "14049.961045656775"
      ]
     },
     "execution_count": 17,
     "metadata": {},
     "output_type": "execute_result"
    }
   ],
   "source": [
    "train_to_rf=RandomForestRegressor(max_leaf_nodes=best_no_of_leaves,random_state=1)\n",
    "train_to_rf.fit(X,y)\n",
    "val_predicted_from_rf=train_to_rf.predict(val_X)\n",
    "improved_mae=mean_absolute_error(val_predicted_from_rf,val_y)\n",
    "improved_mae"
   ]
  },
  {
   "cell_type": "code",
   "execution_count": 18,
   "id": "e2375b88",
   "metadata": {
    "execution": {
     "iopub.execute_input": "2023-10-20T13:42:02.725273Z",
     "iopub.status.busy": "2023-10-20T13:42:02.723878Z",
     "iopub.status.idle": "2023-10-20T13:42:02.730896Z",
     "shell.execute_reply": "2023-10-20T13:42:02.729603Z"
    },
    "papermill": {
     "duration": 0.015947,
     "end_time": "2023-10-20T13:42:02.733538",
     "exception": false,
     "start_time": "2023-10-20T13:42:02.717591",
     "status": "completed"
    },
    "tags": []
   },
   "outputs": [
    {
     "name": "stdout",
     "output_type": "stream",
     "text": [
      "230      18000\n",
      "4500     10500\n",
      "3277     16000\n",
      "4045     13000\n",
      "1561      9500\n",
      "         ...  \n",
      "1614      7500\n",
      "829     130000\n",
      "788     200000\n",
      "1247    180000\n",
      "3070      8000\n",
      "Name: Rent, Length: 1187, dtype: int64\n"
     ]
    }
   ],
   "source": [
    "print(val_y)"
   ]
  },
  {
   "cell_type": "code",
   "execution_count": 19,
   "id": "2a68da7e",
   "metadata": {
    "execution": {
     "iopub.execute_input": "2023-10-20T13:42:02.746845Z",
     "iopub.status.busy": "2023-10-20T13:42:02.746404Z",
     "iopub.status.idle": "2023-10-20T13:42:02.753020Z",
     "shell.execute_reply": "2023-10-20T13:42:02.751728Z"
    },
    "papermill": {
     "duration": 0.016933,
     "end_time": "2023-10-20T13:42:02.756233",
     "exception": false,
     "start_time": "2023-10-20T13:42:02.739300",
     "status": "completed"
    },
    "tags": []
   },
   "outputs": [
    {
     "name": "stdout",
     "output_type": "stream",
     "text": [
      "[ 23394.66666667  21210.33603733  21777.23834584 ... 119559.24809259\n",
      "  89212.5515873    8544.69206515]\n"
     ]
    }
   ],
   "source": [
    "print(val_predicted_from_rf)"
   ]
  },
  {
   "cell_type": "code",
   "execution_count": 20,
   "id": "ba8a34ee",
   "metadata": {
    "execution": {
     "iopub.execute_input": "2023-10-20T13:42:02.769673Z",
     "iopub.status.busy": "2023-10-20T13:42:02.769291Z",
     "iopub.status.idle": "2023-10-20T13:42:02.775382Z",
     "shell.execute_reply": "2023-10-20T13:42:02.774163Z"
    },
    "papermill": {
     "duration": 0.015661,
     "end_time": "2023-10-20T13:42:02.778006",
     "exception": false,
     "start_time": "2023-10-20T13:42:02.762345",
     "status": "completed"
    },
    "tags": []
   },
   "outputs": [],
   "source": [
    "def predict_rent(bhk,size,furnishing_status,bath): #area type, add floor, area locality\n",
    "    x=np.zeros(len(X.columns))\n",
    "    x[0]=bhk\n",
    "    x[1]=size\n",
    "    #x[2]=int(floor)\n",
    "    #x[2]=area_type\n",
    "    #x[4]=area_locality\n",
    "    x[2]=furnishing_status\n",
    "    x[3]=bath\n",
    "    return(train_to_rf.predict([x]))"
   ]
  },
  {
   "cell_type": "code",
   "execution_count": 21,
   "id": "005151b8",
   "metadata": {
    "execution": {
     "iopub.execute_input": "2023-10-20T13:42:02.791428Z",
     "iopub.status.busy": "2023-10-20T13:42:02.790784Z",
     "iopub.status.idle": "2023-10-20T13:42:02.818358Z",
     "shell.execute_reply": "2023-10-20T13:42:02.817226Z"
    },
    "papermill": {
     "duration": 0.036806,
     "end_time": "2023-10-20T13:42:02.820575",
     "exception": false,
     "start_time": "2023-10-20T13:42:02.783769",
     "status": "completed"
    },
    "tags": []
   },
   "outputs": [
    {
     "name": "stderr",
     "output_type": "stream",
     "text": [
      "/tmp/ipykernel_20/4197940834.py:8: FutureWarning: Calling float on a single element Series is deprecated and will raise a TypeError in the future. Use float(ser.iloc[0]) instead\n",
      "  x[2]=furnishing_status\n",
      "/opt/conda/lib/python3.10/site-packages/sklearn/base.py:439: UserWarning: X does not have valid feature names, but RandomForestRegressor was fitted with feature names\n",
      "  warnings.warn(\n"
     ]
    },
    {
     "data": {
      "text/plain": [
       "array([32640.40584416])"
      ]
     },
     "execution_count": 21,
     "metadata": {},
     "output_type": "execute_result"
    }
   ],
   "source": [
    "data=[['1 out of 3','Carpet Area','Bandel','Furnished']]\n",
    "df=pd.DataFrame(data,columns=['Floor','Area Type','Area Locality','Furnishing Status'],dtype='category')\n",
    "#df['Floor']=encoder1.transform(df['Floor'])\n",
    "#df['Area Locality']=encoder2.transform(df['Area Locality'])\n",
    "df['Area Type']=df['Area Type'].replace(['Super Area','Carpet Area'],[1,0])\n",
    "df['Furnishing Status']=df['Furnishing Status'].replace(['Furnished','Semi-Furnished','Unfurnished'],[2,1,0])\n",
    "predict_rent(3,1000,df['Furnishing Status'],2)"
   ]
  }
 ],
 "metadata": {
  "kernelspec": {
   "display_name": "Python 3",
   "language": "python",
   "name": "python3"
  },
  "language_info": {
   "codemirror_mode": {
    "name": "ipython",
    "version": 3
   },
   "file_extension": ".py",
   "mimetype": "text/x-python",
   "name": "python",
   "nbconvert_exporter": "python",
   "pygments_lexer": "ipython3",
   "version": "3.10.12"
  },
  "papermill": {
   "default_parameters": {},
   "duration": 11.523793,
   "end_time": "2023-10-20T13:42:03.447808",
   "environment_variables": {},
   "exception": null,
   "input_path": "__notebook__.ipynb",
   "output_path": "__notebook__.ipynb",
   "parameters": {},
   "start_time": "2023-10-20T13:41:51.924015",
   "version": "2.4.0"
  }
 },
 "nbformat": 4,
 "nbformat_minor": 5
}
