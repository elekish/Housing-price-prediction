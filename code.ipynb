{
 "cells": [
  {
   "cell_type": "code",
   "execution_count": 1,
   "id": "7e5a87a2",
   "metadata": {
    "_cell_guid": "b1076dfc-b9ad-4769-8c92-a6c4dae69d19",
    "_uuid": "8f2839f25d086af736a60e9eeb907d3b93b6e0e5",
    "execution": {
     "iopub.execute_input": "2023-10-19T23:44:31.703124Z",
     "iopub.status.busy": "2023-10-19T23:44:31.702617Z",
     "iopub.status.idle": "2023-10-19T23:44:32.111905Z",
     "shell.execute_reply": "2023-10-19T23:44:32.111007Z"
    },
    "papermill": {
     "duration": 0.418293,
     "end_time": "2023-10-19T23:44:32.114511",
     "exception": false,
     "start_time": "2023-10-19T23:44:31.696218",
     "status": "completed"
    },
    "tags": []
   },
   "outputs": [],
   "source": [
    "import pandas as pd"
   ]
  },
  {
   "cell_type": "code",
   "execution_count": 2,
   "id": "49ce43ba",
   "metadata": {
    "execution": {
     "iopub.execute_input": "2023-10-19T23:44:32.127732Z",
     "iopub.status.busy": "2023-10-19T23:44:32.126852Z",
     "iopub.status.idle": "2023-10-19T23:44:32.131495Z",
     "shell.execute_reply": "2023-10-19T23:44:32.130488Z"
    },
    "papermill": {
     "duration": 0.01224,
     "end_time": "2023-10-19T23:44:32.133671",
     "exception": false,
     "start_time": "2023-10-19T23:44:32.121431",
     "status": "completed"
    },
    "tags": []
   },
   "outputs": [],
   "source": [
    "data_path='/kaggle/input/house-rent-prediction-dataset/House_Rent_Dataset.csv'"
   ]
  },
  {
   "cell_type": "code",
   "execution_count": 3,
   "id": "771c0e28",
   "metadata": {
    "execution": {
     "iopub.execute_input": "2023-10-19T23:44:32.144155Z",
     "iopub.status.busy": "2023-10-19T23:44:32.143484Z",
     "iopub.status.idle": "2023-10-19T23:44:32.192796Z",
     "shell.execute_reply": "2023-10-19T23:44:32.191610Z"
    },
    "papermill": {
     "duration": 0.057663,
     "end_time": "2023-10-19T23:44:32.195505",
     "exception": false,
     "start_time": "2023-10-19T23:44:32.137842",
     "status": "completed"
    },
    "tags": []
   },
   "outputs": [],
   "source": [
    "model_data=pd.read_csv(data_path)"
   ]
  },
  {
   "cell_type": "code",
   "execution_count": 4,
   "id": "f4f80658",
   "metadata": {
    "execution": {
     "iopub.execute_input": "2023-10-19T23:44:32.205364Z",
     "iopub.status.busy": "2023-10-19T23:44:32.204936Z",
     "iopub.status.idle": "2023-10-19T23:44:32.224557Z",
     "shell.execute_reply": "2023-10-19T23:44:32.223358Z"
    },
    "papermill": {
     "duration": 0.027502,
     "end_time": "2023-10-19T23:44:32.227254",
     "exception": false,
     "start_time": "2023-10-19T23:44:32.199752",
     "status": "completed"
    },
    "tags": []
   },
   "outputs": [
    {
     "data": {
      "text/plain": [
       "Posted On            0\n",
       "BHK                  0\n",
       "Rent                 0\n",
       "Size                 0\n",
       "Floor                0\n",
       "Area Type            0\n",
       "Area Locality        0\n",
       "City                 0\n",
       "Furnishing Status    0\n",
       "Tenant Preferred     0\n",
       "Bathroom             0\n",
       "Point of Contact     0\n",
       "dtype: int64"
      ]
     },
     "execution_count": 4,
     "metadata": {},
     "output_type": "execute_result"
    }
   ],
   "source": [
    "model_data.isnull().sum() #check if there are any missing values---------->here none"
   ]
  },
  {
   "cell_type": "code",
   "execution_count": 5,
   "id": "13cd41dc",
   "metadata": {
    "execution": {
     "iopub.execute_input": "2023-10-19T23:44:32.237763Z",
     "iopub.status.busy": "2023-10-19T23:44:32.237333Z",
     "iopub.status.idle": "2023-10-19T23:44:32.245091Z",
     "shell.execute_reply": "2023-10-19T23:44:32.243903Z"
    },
    "papermill": {
     "duration": 0.015664,
     "end_time": "2023-10-19T23:44:32.247195",
     "exception": false,
     "start_time": "2023-10-19T23:44:32.231531",
     "status": "completed"
    },
    "tags": []
   },
   "outputs": [
    {
     "data": {
      "text/plain": [
       "Index(['Posted On', 'BHK', 'Rent', 'Size', 'Floor', 'Area Type',\n",
       "       'Area Locality', 'City', 'Furnishing Status', 'Tenant Preferred',\n",
       "       'Bathroom', 'Point of Contact'],\n",
       "      dtype='object')"
      ]
     },
     "execution_count": 5,
     "metadata": {},
     "output_type": "execute_result"
    }
   ],
   "source": [
    "model_data.columns"
   ]
  },
  {
   "cell_type": "code",
   "execution_count": 6,
   "id": "11cabd97",
   "metadata": {
    "execution": {
     "iopub.execute_input": "2023-10-19T23:44:32.258184Z",
     "iopub.status.busy": "2023-10-19T23:44:32.257208Z",
     "iopub.status.idle": "2023-10-19T23:44:32.261874Z",
     "shell.execute_reply": "2023-10-19T23:44:32.261083Z"
    },
    "papermill": {
     "duration": 0.012238,
     "end_time": "2023-10-19T23:44:32.263868",
     "exception": false,
     "start_time": "2023-10-19T23:44:32.251630",
     "status": "completed"
    },
    "tags": []
   },
   "outputs": [],
   "source": [
    "features=['BHK','Size','Floor','Area Type','Area Locality','Furnishing Status','Bathroom']"
   ]
  },
  {
   "cell_type": "code",
   "execution_count": 7,
   "id": "7137fa10",
   "metadata": {
    "execution": {
     "iopub.execute_input": "2023-10-19T23:44:32.275379Z",
     "iopub.status.busy": "2023-10-19T23:44:32.274922Z",
     "iopub.status.idle": "2023-10-19T23:44:32.289922Z",
     "shell.execute_reply": "2023-10-19T23:44:32.288487Z"
    },
    "papermill": {
     "duration": 0.024405,
     "end_time": "2023-10-19T23:44:32.292620",
     "exception": false,
     "start_time": "2023-10-19T23:44:32.268215",
     "status": "completed"
    },
    "tags": []
   },
   "outputs": [],
   "source": [
    "X=model_data[features]"
   ]
  },
  {
   "cell_type": "code",
   "execution_count": 8,
   "id": "b1be83a7",
   "metadata": {
    "execution": {
     "iopub.execute_input": "2023-10-19T23:44:32.303501Z",
     "iopub.status.busy": "2023-10-19T23:44:32.303051Z",
     "iopub.status.idle": "2023-10-19T23:44:32.340184Z",
     "shell.execute_reply": "2023-10-19T23:44:32.339447Z"
    },
    "papermill": {
     "duration": 0.047659,
     "end_time": "2023-10-19T23:44:32.344812",
     "exception": false,
     "start_time": "2023-10-19T23:44:32.297153",
     "status": "completed"
    },
    "tags": []
   },
   "outputs": [
    {
     "name": "stderr",
     "output_type": "stream",
     "text": [
      "/tmp/ipykernel_20/3751477186.py:3: SettingWithCopyWarning: \n",
      "A value is trying to be set on a copy of a slice from a DataFrame.\n",
      "Try using .loc[row_indexer,col_indexer] = value instead\n",
      "\n",
      "See the caveats in the documentation: https://pandas.pydata.org/pandas-docs/stable/user_guide/indexing.html#returning-a-view-versus-a-copy\n",
      "  X[col]=X[col].astype('category')\n",
      "/tmp/ipykernel_20/3751477186.py:3: SettingWithCopyWarning: \n",
      "A value is trying to be set on a copy of a slice from a DataFrame.\n",
      "Try using .loc[row_indexer,col_indexer] = value instead\n",
      "\n",
      "See the caveats in the documentation: https://pandas.pydata.org/pandas-docs/stable/user_guide/indexing.html#returning-a-view-versus-a-copy\n",
      "  X[col]=X[col].astype('category')\n",
      "/tmp/ipykernel_20/3751477186.py:3: SettingWithCopyWarning: \n",
      "A value is trying to be set on a copy of a slice from a DataFrame.\n",
      "Try using .loc[row_indexer,col_indexer] = value instead\n",
      "\n",
      "See the caveats in the documentation: https://pandas.pydata.org/pandas-docs/stable/user_guide/indexing.html#returning-a-view-versus-a-copy\n",
      "  X[col]=X[col].astype('category')\n",
      "/tmp/ipykernel_20/3751477186.py:3: SettingWithCopyWarning: \n",
      "A value is trying to be set on a copy of a slice from a DataFrame.\n",
      "Try using .loc[row_indexer,col_indexer] = value instead\n",
      "\n",
      "See the caveats in the documentation: https://pandas.pydata.org/pandas-docs/stable/user_guide/indexing.html#returning-a-view-versus-a-copy\n",
      "  X[col]=X[col].astype('category')\n",
      "/tmp/ipykernel_20/3751477186.py:4: SettingWithCopyWarning: \n",
      "A value is trying to be set on a copy of a slice from a DataFrame.\n",
      "Try using .loc[row_indexer,col_indexer] = value instead\n",
      "\n",
      "See the caveats in the documentation: https://pandas.pydata.org/pandas-docs/stable/user_guide/indexing.html#returning-a-view-versus-a-copy\n",
      "  X[categorical_columns]=X[categorical_columns].apply(lambda x:x.cat.codes)\n"
     ]
    },
    {
     "data": {
      "text/html": [
       "<div>\n",
       "<style scoped>\n",
       "    .dataframe tbody tr th:only-of-type {\n",
       "        vertical-align: middle;\n",
       "    }\n",
       "\n",
       "    .dataframe tbody tr th {\n",
       "        vertical-align: top;\n",
       "    }\n",
       "\n",
       "    .dataframe thead th {\n",
       "        text-align: right;\n",
       "    }\n",
       "</style>\n",
       "<table border=\"1\" class=\"dataframe\">\n",
       "  <thead>\n",
       "    <tr style=\"text-align: right;\">\n",
       "      <th></th>\n",
       "      <th>BHK</th>\n",
       "      <th>Size</th>\n",
       "      <th>Floor</th>\n",
       "      <th>Area Type</th>\n",
       "      <th>Area Locality</th>\n",
       "      <th>Furnishing Status</th>\n",
       "      <th>Bathroom</th>\n",
       "    </tr>\n",
       "  </thead>\n",
       "  <tbody>\n",
       "    <tr>\n",
       "      <th>0</th>\n",
       "      <td>2</td>\n",
       "      <td>1100</td>\n",
       "      <td>455</td>\n",
       "      <td>2</td>\n",
       "      <td>221</td>\n",
       "      <td>2</td>\n",
       "      <td>2</td>\n",
       "    </tr>\n",
       "    <tr>\n",
       "      <th>1</th>\n",
       "      <td>2</td>\n",
       "      <td>800</td>\n",
       "      <td>14</td>\n",
       "      <td>2</td>\n",
       "      <td>1527</td>\n",
       "      <td>1</td>\n",
       "      <td>1</td>\n",
       "    </tr>\n",
       "    <tr>\n",
       "      <th>2</th>\n",
       "      <td>2</td>\n",
       "      <td>1000</td>\n",
       "      <td>14</td>\n",
       "      <td>2</td>\n",
       "      <td>1760</td>\n",
       "      <td>1</td>\n",
       "      <td>1</td>\n",
       "    </tr>\n",
       "    <tr>\n",
       "      <th>3</th>\n",
       "      <td>2</td>\n",
       "      <td>800</td>\n",
       "      <td>10</td>\n",
       "      <td>2</td>\n",
       "      <td>526</td>\n",
       "      <td>2</td>\n",
       "      <td>1</td>\n",
       "    </tr>\n",
       "    <tr>\n",
       "      <th>4</th>\n",
       "      <td>2</td>\n",
       "      <td>850</td>\n",
       "      <td>10</td>\n",
       "      <td>1</td>\n",
       "      <td>1890</td>\n",
       "      <td>2</td>\n",
       "      <td>1</td>\n",
       "    </tr>\n",
       "    <tr>\n",
       "      <th>...</th>\n",
       "      <td>...</td>\n",
       "      <td>...</td>\n",
       "      <td>...</td>\n",
       "      <td>...</td>\n",
       "      <td>...</td>\n",
       "      <td>...</td>\n",
       "      <td>...</td>\n",
       "    </tr>\n",
       "    <tr>\n",
       "      <th>4741</th>\n",
       "      <td>2</td>\n",
       "      <td>1000</td>\n",
       "      <td>271</td>\n",
       "      <td>1</td>\n",
       "      <td>219</td>\n",
       "      <td>1</td>\n",
       "      <td>2</td>\n",
       "    </tr>\n",
       "    <tr>\n",
       "      <th>4742</th>\n",
       "      <td>3</td>\n",
       "      <td>2000</td>\n",
       "      <td>16</td>\n",
       "      <td>2</td>\n",
       "      <td>1214</td>\n",
       "      <td>1</td>\n",
       "      <td>3</td>\n",
       "    </tr>\n",
       "    <tr>\n",
       "      <th>4743</th>\n",
       "      <td>3</td>\n",
       "      <td>1750</td>\n",
       "      <td>271</td>\n",
       "      <td>1</td>\n",
       "      <td>724</td>\n",
       "      <td>1</td>\n",
       "      <td>3</td>\n",
       "    </tr>\n",
       "    <tr>\n",
       "      <th>4744</th>\n",
       "      <td>3</td>\n",
       "      <td>1500</td>\n",
       "      <td>226</td>\n",
       "      <td>1</td>\n",
       "      <td>590</td>\n",
       "      <td>1</td>\n",
       "      <td>2</td>\n",
       "    </tr>\n",
       "    <tr>\n",
       "      <th>4745</th>\n",
       "      <td>2</td>\n",
       "      <td>1000</td>\n",
       "      <td>313</td>\n",
       "      <td>1</td>\n",
       "      <td>1915</td>\n",
       "      <td>2</td>\n",
       "      <td>2</td>\n",
       "    </tr>\n",
       "  </tbody>\n",
       "</table>\n",
       "<p>4746 rows × 7 columns</p>\n",
       "</div>"
      ],
      "text/plain": [
       "      BHK  Size  Floor  Area Type  Area Locality  Furnishing Status  Bathroom\n",
       "0       2  1100    455          2            221                  2         2\n",
       "1       2   800     14          2           1527                  1         1\n",
       "2       2  1000     14          2           1760                  1         1\n",
       "3       2   800     10          2            526                  2         1\n",
       "4       2   850     10          1           1890                  2         1\n",
       "...   ...   ...    ...        ...            ...                ...       ...\n",
       "4741    2  1000    271          1            219                  1         2\n",
       "4742    3  2000     16          2           1214                  1         3\n",
       "4743    3  1750    271          1            724                  1         3\n",
       "4744    3  1500    226          1            590                  1         2\n",
       "4745    2  1000    313          1           1915                  2         2\n",
       "\n",
       "[4746 rows x 7 columns]"
      ]
     },
     "execution_count": 8,
     "metadata": {},
     "output_type": "execute_result"
    }
   ],
   "source": [
    "categorical_columns=['Floor','Area Type','Area Locality','Furnishing Status']  #convert dtype=object to dtype=category for using category codes to convert object to number\n",
    "for col in categorical_columns:\n",
    "    X[col]=X[col].astype('category')\n",
    "X[categorical_columns]=X[categorical_columns].apply(lambda x:x.cat.codes)\n",
    "X"
   ]
  },
  {
   "cell_type": "code",
   "execution_count": 9,
   "id": "c3bc7ace",
   "metadata": {
    "execution": {
     "iopub.execute_input": "2023-10-19T23:44:32.356533Z",
     "iopub.status.busy": "2023-10-19T23:44:32.356095Z",
     "iopub.status.idle": "2023-10-19T23:44:32.361007Z",
     "shell.execute_reply": "2023-10-19T23:44:32.359859Z"
    },
    "papermill": {
     "duration": 0.013589,
     "end_time": "2023-10-19T23:44:32.363375",
     "exception": false,
     "start_time": "2023-10-19T23:44:32.349786",
     "status": "completed"
    },
    "tags": []
   },
   "outputs": [],
   "source": [
    "y=model_data.Rent  "
   ]
  },
  {
   "cell_type": "code",
   "execution_count": 10,
   "id": "e2695133",
   "metadata": {
    "execution": {
     "iopub.execute_input": "2023-10-19T23:44:32.374957Z",
     "iopub.status.busy": "2023-10-19T23:44:32.374285Z",
     "iopub.status.idle": "2023-10-19T23:44:33.625543Z",
     "shell.execute_reply": "2023-10-19T23:44:33.624374Z"
    },
    "papermill": {
     "duration": 1.259977,
     "end_time": "2023-10-19T23:44:33.628071",
     "exception": false,
     "start_time": "2023-10-19T23:44:32.368094",
     "status": "completed"
    },
    "tags": []
   },
   "outputs": [],
   "source": [
    "from sklearn.model_selection import train_test_split\n",
    "train_X, val_X, train_y, val_y=train_test_split(X,y,random_state=1)  #split train and test data"
   ]
  },
  {
   "cell_type": "code",
   "execution_count": 11,
   "id": "71241352",
   "metadata": {
    "execution": {
     "iopub.execute_input": "2023-10-19T23:44:33.639896Z",
     "iopub.status.busy": "2023-10-19T23:44:33.639013Z",
     "iopub.status.idle": "2023-10-19T23:44:34.127026Z",
     "shell.execute_reply": "2023-10-19T23:44:34.125949Z"
    },
    "papermill": {
     "duration": 0.496804,
     "end_time": "2023-10-19T23:44:34.129658",
     "exception": false,
     "start_time": "2023-10-19T23:44:33.632854",
     "status": "completed"
    },
    "tags": []
   },
   "outputs": [],
   "source": [
    "from sklearn.ensemble import RandomForestRegressor\n",
    "from sklearn.metrics import mean_absolute_error"
   ]
  },
  {
   "cell_type": "code",
   "execution_count": 12,
   "id": "00d71b3c",
   "metadata": {
    "execution": {
     "iopub.execute_input": "2023-10-19T23:44:34.141085Z",
     "iopub.status.busy": "2023-10-19T23:44:34.140670Z",
     "iopub.status.idle": "2023-10-19T23:44:34.146860Z",
     "shell.execute_reply": "2023-10-19T23:44:34.145602Z"
    },
    "papermill": {
     "duration": 0.014354,
     "end_time": "2023-10-19T23:44:34.148876",
     "exception": false,
     "start_time": "2023-10-19T23:44:34.134522",
     "status": "completed"
    },
    "tags": []
   },
   "outputs": [],
   "source": [
    "def get_mae(max_leaf_nodes,train_X,val_X,train_y,val_y):\n",
    "    m_data=RandomForestRegressor(max_leaf_nodes=max_leaf_nodes,random_state=1)\n",
    "    m_data.fit(train_X,train_y)\n",
    "    val_predictions=m_data.predict(val_X)\n",
    "    mae=mean_absolute_error(val_y,val_predictions)\n",
    "    return(mae)"
   ]
  },
  {
   "cell_type": "code",
   "execution_count": 13,
   "id": "d3878a12",
   "metadata": {
    "execution": {
     "iopub.execute_input": "2023-10-19T23:44:34.161377Z",
     "iopub.status.busy": "2023-10-19T23:44:34.160131Z",
     "iopub.status.idle": "2023-10-19T23:44:44.260736Z",
     "shell.execute_reply": "2023-10-19T23:44:44.259656Z"
    },
    "papermill": {
     "duration": 10.109836,
     "end_time": "2023-10-19T23:44:44.263618",
     "exception": false,
     "start_time": "2023-10-19T23:44:34.153782",
     "status": "completed"
    },
    "tags": []
   },
   "outputs": [],
   "source": [
    "import numpy as np\n",
    "best_leaf=0\n",
    "best_mae=500000\n",
    "nodes=np.arange(2,2000,200)\n",
    "for max_leaf in nodes:\n",
    "    possible_mae=get_mae(max_leaf,train_X,val_X,train_y,val_y)\n",
    "    if(possible_mae<best_mae):\n",
    "        best_leaf=max_leaf\n",
    "best_no_of_leaves=best_leaf\n"
   ]
  },
  {
   "cell_type": "code",
   "execution_count": 14,
   "id": "0a33561a",
   "metadata": {
    "execution": {
     "iopub.execute_input": "2023-10-19T23:44:44.275337Z",
     "iopub.status.busy": "2023-10-19T23:44:44.274823Z",
     "iopub.status.idle": "2023-10-19T23:44:44.281476Z",
     "shell.execute_reply": "2023-10-19T23:44:44.279967Z"
    },
    "papermill": {
     "duration": 0.015671,
     "end_time": "2023-10-19T23:44:44.284154",
     "exception": false,
     "start_time": "2023-10-19T23:44:44.268483",
     "status": "completed"
    },
    "tags": []
   },
   "outputs": [
    {
     "name": "stdout",
     "output_type": "stream",
     "text": [
      "1802\n"
     ]
    }
   ],
   "source": [
    "print(best_no_of_leaves)\n"
   ]
  },
  {
   "cell_type": "code",
   "execution_count": 15,
   "id": "4c23c2f3",
   "metadata": {
    "execution": {
     "iopub.execute_input": "2023-10-19T23:44:44.296927Z",
     "iopub.status.busy": "2023-10-19T23:44:44.295780Z",
     "iopub.status.idle": "2023-10-19T23:44:45.900994Z",
     "shell.execute_reply": "2023-10-19T23:44:45.899831Z"
    },
    "papermill": {
     "duration": 1.614386,
     "end_time": "2023-10-19T23:44:45.903474",
     "exception": false,
     "start_time": "2023-10-19T23:44:44.289088",
     "status": "completed"
    },
    "tags": []
   },
   "outputs": [
    {
     "data": {
      "text/plain": [
       "6959.590979480891"
      ]
     },
     "execution_count": 15,
     "metadata": {},
     "output_type": "execute_result"
    }
   ],
   "source": [
    "train_to_rf=RandomForestRegressor(max_leaf_nodes=best_no_of_leaves,random_state=1)\n",
    "train_to_rf.fit(X,y)\n",
    "val_predicted_from_rf=train_to_rf.predict(val_X)\n",
    "improved_mae=mean_absolute_error(val_predicted_from_rf,val_y)\n",
    "improved_mae"
   ]
  },
  {
   "cell_type": "code",
   "execution_count": 16,
   "id": "9ec11548",
   "metadata": {
    "execution": {
     "iopub.execute_input": "2023-10-19T23:44:45.915889Z",
     "iopub.status.busy": "2023-10-19T23:44:45.914824Z",
     "iopub.status.idle": "2023-10-19T23:44:45.922408Z",
     "shell.execute_reply": "2023-10-19T23:44:45.921235Z"
    },
    "papermill": {
     "duration": 0.016785,
     "end_time": "2023-10-19T23:44:45.925277",
     "exception": false,
     "start_time": "2023-10-19T23:44:45.908492",
     "status": "completed"
    },
    "tags": []
   },
   "outputs": [
    {
     "name": "stdout",
     "output_type": "stream",
     "text": [
      "230      18000\n",
      "4500     10500\n",
      "3277     16000\n",
      "4045     13000\n",
      "1561      9500\n",
      "         ...  \n",
      "1614      7500\n",
      "829     130000\n",
      "788     200000\n",
      "1247    180000\n",
      "3070      8000\n",
      "Name: Rent, Length: 1187, dtype: int64\n"
     ]
    }
   ],
   "source": [
    "print(val_y)"
   ]
  },
  {
   "cell_type": "code",
   "execution_count": 17,
   "id": "fa5f9eda",
   "metadata": {
    "execution": {
     "iopub.execute_input": "2023-10-19T23:44:45.937304Z",
     "iopub.status.busy": "2023-10-19T23:44:45.936828Z",
     "iopub.status.idle": "2023-10-19T23:44:45.943888Z",
     "shell.execute_reply": "2023-10-19T23:44:45.942781Z"
    },
    "papermill": {
     "duration": 0.015442,
     "end_time": "2023-10-19T23:44:45.945802",
     "exception": false,
     "start_time": "2023-10-19T23:44:45.930360",
     "status": "completed"
    },
    "tags": []
   },
   "outputs": [
    {
     "name": "stdout",
     "output_type": "stream",
     "text": [
      "[ 17166.09640523  12156.01909183  14028.45371867 ... 149827.\n",
      " 185150.           7102.92795393]\n"
     ]
    }
   ],
   "source": [
    "print(val_predicted_from_rf)"
   ]
  }
 ],
 "metadata": {
  "kernelspec": {
   "display_name": "Python 3",
   "language": "python",
   "name": "python3"
  },
  "language_info": {
   "codemirror_mode": {
    "name": "ipython",
    "version": 3
   },
   "file_extension": ".py",
   "mimetype": "text/x-python",
   "name": "python",
   "nbconvert_exporter": "python",
   "pygments_lexer": "ipython3",
   "version": "3.10.12"
  },
  "papermill": {
   "default_parameters": {},
   "duration": 18.436473,
   "end_time": "2023-10-19T23:44:46.672430",
   "environment_variables": {},
   "exception": null,
   "input_path": "__notebook__.ipynb",
   "output_path": "__notebook__.ipynb",
   "parameters": {},
   "start_time": "2023-10-19T23:44:28.235957",
   "version": "2.4.0"
  }
 },
 "nbformat": 4,
 "nbformat_minor": 5
}
